{
 "cells": [
  {
   "cell_type": "code",
   "execution_count": 2,
   "id": "d4ffe16c",
   "metadata": {},
   "outputs": [],
   "source": [
    "library(BiocManager)"
   ]
  },
  {
   "cell_type": "code",
   "execution_count": 3,
   "id": "d8d17d52",
   "metadata": {},
   "outputs": [
    {
     "name": "stderr",
     "output_type": "stream",
     "text": [
      "Bioconductor version 3.10 (BiocManager 1.30.4), R 3.6.1 (2019-07-05)\n",
      "Installing package(s) 'BiocVersion', 'seqinr'\n",
      "also installing the dependency 'segmented'\n",
      "\n"
     ]
    },
    {
     "name": "stdout",
     "output_type": "stream",
     "text": [
      "\n",
      "  There are binary versions available but the source versions are later:\n",
      "          binary source needs_compilation\n",
      "segmented  1.3-4  1.6-0             FALSE\n",
      "seqinr     4.2-5 4.2-16              TRUE\n",
      "\n",
      "  Binaries will be installed\n",
      "package 'BiocVersion' successfully unpacked and MD5 sums checked\n",
      "package 'seqinr' successfully unpacked and MD5 sums checked\n",
      "\n",
      "The downloaded binary packages are in\n",
      "\tC:\\Users\\Owner\\AppData\\Local\\Temp\\RtmpGCUaoJ\\downloaded_packages\n"
     ]
    },
    {
     "name": "stderr",
     "output_type": "stream",
     "text": [
      "installing the source package 'segmented'\n",
      "\n",
      "Update old packages: 'ade4', 'ape', 'BiocManager', 'cli', 'codetools',\n",
      "  'colorspace', 'crayon', 'dichromat', 'digest', 'doParallel', 'evaluate',\n",
      "  'fansi', 'foreach', 'GGally', 'ggplot2', 'glue', 'gtable', 'gtools', 'hms',\n",
      "  'htmltools', 'IRdisplay', 'IRkernel', 'iterators', 'jsonlite', 'labeling',\n",
      "  'lattice', 'magrittr', 'MASS', 'Matrix', 'mgcv', 'mnormt', 'nlme', 'pbdZMQ',\n",
      "  'pillar', 'pkgconfig', 'plyr', 'psy', 'psych', 'psychotools', 'psychTools',\n",
      "  'psyphy', 'R6', 'RColorBrewer', 'Rcpp', 'repr', 'reshape', 'reshape2',\n",
      "  'rlang', 'scales', 'seqinr', 'stringi', 'stringr', 'tibble', 'utf8', 'uuid',\n",
      "  'viridisLite', 'withr'\n"
     ]
    }
   ],
   "source": [
    "BiocManager::install(\"seqinr\")"
   ]
  },
  {
   "cell_type": "code",
   "execution_count": 4,
   "id": "053bedc0",
   "metadata": {},
   "outputs": [
    {
     "name": "stderr",
     "output_type": "stream",
     "text": [
      "Warning message:\n",
      "\"package 'seqinr' was built under R version 3.6.3\""
     ]
    }
   ],
   "source": [
    "library(seqinr)"
   ]
  },
  {
   "cell_type": "code",
   "execution_count": 5,
   "id": "499dd1e6",
   "metadata": {},
   "outputs": [
    {
     "data": {
      "text/plain": [
       " [1] \"genbank\"         \"embl\"            \"emblwgs\"         \"genbankseqinr\"  \n",
       " [5] \"swissprot\"       \"ensembl\"         \"hogenom7dna\"     \"hogenom7\"       \n",
       " [9] \"hogenom\"         \"hogenomdna\"      \"hovergendna\"     \"hovergen\"       \n",
       "[13] \"hogenom5\"        \"hogenom5dna\"     \"hogenom4\"        \"hogenom4dna\"    \n",
       "[17] \"homolens\"        \"homolensdna\"     \"hobacnucl\"       \"hobacprot\"      \n",
       "[21] \"phever2\"         \"phever2dna\"      \"refseq\"          \"refseq16s\"      \n",
       "[25] \"greviews\"        \"bacterial\"       \"archaeal\"        \"protozoan\"      \n",
       "[29] \"ensprotists\"     \"ensfungi\"        \"ensmetazoa\"      \"ensplants\"      \n",
       "[33] \"ensemblbacteria\" \"mito\"            \"polymorphix\"     \"emglib\"         \n",
       "[37] \"refseqViruses\"   \"ribodb\"          \"taxodb\"         "
      ]
     },
     "metadata": {},
     "output_type": "display_data"
    }
   ],
   "source": [
    "choosebank()"
   ]
  },
  {
   "cell_type": "code",
   "execution_count": 6,
   "id": "b71a6cae",
   "metadata": {},
   "outputs": [],
   "source": [
    "banks <- c(choosebank())"
   ]
  },
  {
   "cell_type": "code",
   "execution_count": 7,
   "id": "bb1dc794",
   "metadata": {},
   "outputs": [],
   "source": [
    "ntaxa <- numeric(0)"
   ]
  },
  {
   "cell_type": "code",
   "execution_count": 8,
   "id": "2b7a7041",
   "metadata": {},
   "outputs": [
    {
     "ename": "ERROR",
     "evalue": "Error in acnucopen(bank, socket): Database with name -->hovergendna<-- is not known by server.\n\n",
     "output_type": "error",
     "traceback": [
      "Error in acnucopen(bank, socket): Database with name -->hovergendna<-- is not known by server.\n\nTraceback:\n",
      "1. choosebank(i)",
      "2. acnucopen(bank, socket)",
      "3. stop(paste(\"Database with name -->\", db, \"<-- is not known by server.\\n\", \n .     sep = \"\"))"
     ]
    }
   ],
   "source": [
    "for (i in banks) {\n",
    " ntaxa[i]<-as.numeric(choosebank(i)$totspecs);closebank()\n",
    "}"
   ]
  },
  {
   "cell_type": "code",
   "execution_count": 9,
   "id": "0ee2d1cc",
   "metadata": {},
   "outputs": [
    {
     "data": {
      "image/png": "[encoded data removed]",
      "text/plain": [
       "Plot with title \"Number of taxa in available databases\""
      ]
     },
     "metadata": {},
     "output_type": "display_data"
    }
   ],
   "source": [
    "dotchart(log10(ntaxa[order(ntaxa)]), pch = 19, main = \"Number of taxa in available databases\",xlab = \"Log10(number of taxa)\")"
   ]
  },
  {
   "cell_type": "code",
   "execution_count": null,
   "id": "966305a4",
   "metadata": {},
   "outputs": [],
   "source": []
  }
 ],
 "metadata": {
  "kernelspec": {
   "display_name": "R",
   "language": "R",
   "name": "ir"
  },
  "language_info": {
   "codemirror_mode": "r",
   "file_extension": ".r",
   "mimetype": "text/x-r-source",
   "name": "R",
   "pygments_lexer": "r",
   "version": "3.6.1"
  }
 },
 "nbformat": 4,
 "nbformat_minor": 5
}
