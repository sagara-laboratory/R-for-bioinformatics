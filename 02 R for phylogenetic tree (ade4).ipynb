{
 "cells": [
  {
   "cell_type": "code",
   "execution_count": 1,
   "id": "044e44c2",
   "metadata": {},
   "outputs": [],
   "source": [
    "library(ade4)"
   ]
  },
  {
   "cell_type": "code",
   "execution_count": 2,
   "id": "e3b753a4",
   "metadata": {},
   "outputs": [],
   "source": [
    "data(tithonia)"
   ]
  },
  {
   "cell_type": "code",
   "execution_count": 3,
   "id": "beae3db3",
   "metadata": {},
   "outputs": [
    {
     "data": {
      "text/html": [
       "'list'"
      ],
      "text/latex": [
       "'list'"
      ],
      "text/markdown": [
       "'list'"
      ],
      "text/plain": [
       "[1] \"list\""
      ]
     },
     "metadata": {},
     "output_type": "display_data"
    }
   ],
   "source": [
    "class(tithonia)"
   ]
  },
  {
   "cell_type": "code",
   "execution_count": 4,
   "id": "696b5059",
   "metadata": {},
   "outputs": [
    {
     "data": {
      "text/html": [
       "2"
      ],
      "text/latex": [
       "2"
      ],
      "text/markdown": [
       "2"
      ],
      "text/plain": [
       "[1] 2"
      ]
     },
     "metadata": {},
     "output_type": "display_data"
    }
   ],
   "source": [
    "length(tithonia)"
   ]
  },
  {
   "cell_type": "code",
   "execution_count": 5,
   "id": "de2cccd8",
   "metadata": {},
   "outputs": [
    {
     "data": {
      "text/html": [
       "<strong>$tre</strong> = '(((T.calva.calva:2.1,T.lancifolia:2.1):0.2,T.longiradiata:2.3):1.4,(T.pedunculata:3.1,T.fruticosa:3.1,((T.koelzii:2.1,T.diversifolia:2.1):0.6,(T.thurberii:2.3,T.tubaeformis:2.3,(T.brachypappa:2,T.rotundifolia:2):0.3):0.4):0.4):0.6);'"
      ],
      "text/latex": [
       "\\textbf{\\$tre} = '(((T.calva.calva:2.1,T.lancifolia:2.1):0.2,T.longiradiata:2.3):1.4,(T.pedunculata:3.1,T.fruticosa:3.1,((T.koelzii:2.1,T.diversifolia:2.1):0.6,(T.thurberii:2.3,T.tubaeformis:2.3,(T.brachypappa:2,T.rotundifolia:2):0.3):0.4):0.4):0.6);'"
      ],
      "text/markdown": [
       "**$tre** = '(((T.calva.calva:2.1,T.lancifolia:2.1):0.2,T.longiradiata:2.3):1.4,(T.pedunculata:3.1,T.fruticosa:3.1,((T.koelzii:2.1,T.diversifolia:2.1):0.6,(T.thurberii:2.3,T.tubaeformis:2.3,(T.brachypappa:2,T.rotundifolia:2):0.3):0.4):0.4):0.6);'"
      ],
      "text/plain": [
       "$tre\n",
       "[1] \"(((T.calva.calva:2.1,T.lancifolia:2.1):0.2,T.longiradiata:2.3):1.4,(T.pedunculata:3.1,T.fruticosa:3.1,((T.koelzii:2.1,T.diversifolia:2.1):0.6,(T.thurberii:2.3,T.tubaeformis:2.3,(T.brachypappa:2,T.rotundifolia:2):0.3):0.4):0.4):0.6);\"\n"
      ]
     },
     "metadata": {},
     "output_type": "display_data"
    }
   ],
   "source": [
    "tithonia[1]"
   ]
  },
  {
   "cell_type": "code",
   "execution_count": 6,
   "id": "4361aa5b",
   "metadata": {},
   "outputs": [
    {
     "data": {
      "text/html": [
       "<strong>$tab</strong> = <table>\n",
       "<thead><tr><th></th><th scope=col>morho1</th><th scope=col>morho2</th><th scope=col>morho3</th><th scope=col>morho4</th><th scope=col>morho5</th><th scope=col>morho6</th><th scope=col>demo7</th><th scope=col>demo8</th><th scope=col>demo9</th><th scope=col>demo10</th><th scope=col>demo11</th><th scope=col>demo12</th><th scope=col>demo13</th><th scope=col>demo14</th></tr></thead>\n",
       "<tbody>\n",
       "\t<tr><th scope=row>T_calva_calva</th><td>4.10  </td><td> 5.98 </td><td> 10.62</td><td>2.72  </td><td>140   </td><td> 90   </td><td> 2.63 </td><td>0.09  </td><td>15.50 </td><td> 5.0  </td><td> 7.00 </td><td> 6.0  </td><td>15    </td><td>4.4   </td></tr>\n",
       "\t<tr><th scope=row>T_lancifolia</th><td>3.77  </td><td> 5.59 </td><td>  7.84</td><td>2.35  </td><td>120   </td><td> 75   </td><td> 3.36 </td><td>0.11  </td><td>11.83 </td><td> 4.0  </td><td>14.00 </td><td> 9.2  </td><td>11    </td><td>4.0   </td></tr>\n",
       "\t<tr><th scope=row>T_longiradiata</th><td>3.73  </td><td> 5.97 </td><td> 45.68</td><td>2.22  </td><td>140   </td><td>125   </td><td> 4.24 </td><td>0.09  </td><td>17.10 </td><td> 4.1  </td><td>21.00 </td><td>11.5  </td><td>16    </td><td>4.5   </td></tr>\n",
       "\t<tr><th scope=row>T_pedunculata</th><td>6.10  </td><td> 7.10 </td><td> 21.52</td><td>3.01  </td><td>100   </td><td> 90   </td><td> 2.79 </td><td>0.14  </td><td>15.30 </td><td> 1.5  </td><td>28.05 </td><td>11.0  </td><td>51    </td><td>2.7   </td></tr>\n",
       "\t<tr><th scope=row>T_fruticosa</th><td>4.57  </td><td>11.25 </td><td> 46.71</td><td>2.49  </td><td>120   </td><td>100   </td><td> 3.71 </td><td>0.48  </td><td>25.16 </td><td> 1.0  </td><td>14.50 </td><td> 4.0  </td><td>46    </td><td>7.0   </td></tr>\n",
       "\t<tr><th scope=row>T_koelzii</th><td>5.52  </td><td> 4.50 </td><td> 62.16</td><td>4.50  </td><td>100   </td><td> 60   </td><td> 4.15 </td><td>0.06  </td><td>19.20 </td><td> 2.0  </td><td> 5.00 </td><td> 2.0  </td><td>18    </td><td>3.5   </td></tr>\n",
       "\t<tr><th scope=row>T_diversifolia</th><td>6.24  </td><td> 6.12 </td><td> 35.55</td><td>2.28  </td><td>130   </td><td> 90   </td><td> 3.21 </td><td>0.16  </td><td> 8.99 </td><td>27.0  </td><td>66.00 </td><td>59.0  </td><td>17    </td><td>5.0   </td></tr>\n",
       "\t<tr><th scope=row>T_thurberii</th><td>6.54  </td><td> 6.99 </td><td>141.80</td><td>2.55  </td><td> 92   </td><td> 71   </td><td> 9.85 </td><td>0.33  </td><td>16.66 </td><td> 1.5  </td><td>70.50 </td><td> 5.5  </td><td>89    </td><td>3.5   </td></tr>\n",
       "\t<tr><th scope=row>T_tubaeformis</th><td>5.45  </td><td> 6.37 </td><td> 33.23</td><td>2.57  </td><td>120   </td><td> 90   </td><td>15.90 </td><td>0.44  </td><td> 6.19 </td><td>59.5  </td><td>81.50 </td><td>73.0  </td><td>95    </td><td>3.0   </td></tr>\n",
       "\t<tr><th scope=row>T_brachypappa</th><td>5.59  </td><td> 5.71 </td><td>  8.49</td><td>1.67  </td><td> 85   </td><td> 71   </td><td> 7.11 </td><td>0.27  </td><td>13.28 </td><td> 4.0  </td><td>63.50 </td><td>12.0  </td><td>89    </td><td>2.5   </td></tr>\n",
       "\t<tr><th scope=row>T_rotundifolia</th><td>7.71  </td><td> 7.81 </td><td> 56.80</td><td>2.52  </td><td> 60   </td><td> 56   </td><td> 6.69 </td><td>0.22  </td><td> 7.23 </td><td>26.5  </td><td>74.20 </td><td>36.0  </td><td>93    </td><td>3.5   </td></tr>\n",
       "</tbody>\n",
       "</table>\n"
      ],
      "text/latex": [
       "\\textbf{\\$tab} = \\begin{tabular}{r|llllllllllllll}\n",
       "  & morho1 & morho2 & morho3 & morho4 & morho5 & morho6 & demo7 & demo8 & demo9 & demo10 & demo11 & demo12 & demo13 & demo14\\\\\n",
       "\\hline\n",
       "\tT\\_calva\\_calva & 4.10   &  5.98  &  10.62 & 2.72   & 140    &  90    &  2.63  & 0.09   & 15.50  &  5.0   &  7.00  &  6.0   & 15     & 4.4   \\\\\n",
       "\tT\\_lancifolia & 3.77   &  5.59  &   7.84 & 2.35   & 120    &  75    &  3.36  & 0.11   & 11.83  &  4.0   & 14.00  &  9.2   & 11     & 4.0   \\\\\n",
       "\tT\\_longiradiata & 3.73   &  5.97  &  45.68 & 2.22   & 140    & 125    &  4.24  & 0.09   & 17.10  &  4.1   & 21.00  & 11.5   & 16     & 4.5   \\\\\n",
       "\tT\\_pedunculata & 6.10   &  7.10  &  21.52 & 3.01   & 100    &  90    &  2.79  & 0.14   & 15.30  &  1.5   & 28.05  & 11.0   & 51     & 2.7   \\\\\n",
       "\tT\\_fruticosa & 4.57   & 11.25  &  46.71 & 2.49   & 120    & 100    &  3.71  & 0.48   & 25.16  &  1.0   & 14.50  &  4.0   & 46     & 7.0   \\\\\n",
       "\tT\\_koelzii & 5.52   &  4.50  &  62.16 & 4.50   & 100    &  60    &  4.15  & 0.06   & 19.20  &  2.0   &  5.00  &  2.0   & 18     & 3.5   \\\\\n",
       "\tT\\_diversifolia & 6.24   &  6.12  &  35.55 & 2.28   & 130    &  90    &  3.21  & 0.16   &  8.99  & 27.0   & 66.00  & 59.0   & 17     & 5.0   \\\\\n",
       "\tT\\_thurberii & 6.54   &  6.99  & 141.80 & 2.55   &  92    &  71    &  9.85  & 0.33   & 16.66  &  1.5   & 70.50  &  5.5   & 89     & 3.5   \\\\\n",
       "\tT\\_tubaeformis & 5.45   &  6.37  &  33.23 & 2.57   & 120    &  90    & 15.90  & 0.44   &  6.19  & 59.5   & 81.50  & 73.0   & 95     & 3.0   \\\\\n",
       "\tT\\_brachypappa & 5.59   &  5.71  &   8.49 & 1.67   &  85    &  71    &  7.11  & 0.27   & 13.28  &  4.0   & 63.50  & 12.0   & 89     & 2.5   \\\\\n",
       "\tT\\_rotundifolia & 7.71   &  7.81  &  56.80 & 2.52   &  60    &  56    &  6.69  & 0.22   &  7.23  & 26.5   & 74.20  & 36.0   & 93     & 3.5   \\\\\n",
       "\\end{tabular}\n"
      ],
      "text/markdown": [
       "**$tab** = \n",
       "| <!--/--> | morho1 | morho2 | morho3 | morho4 | morho5 | morho6 | demo7 | demo8 | demo9 | demo10 | demo11 | demo12 | demo13 | demo14 |\n",
       "|---|---|---|---|---|---|---|---|---|---|---|---|---|---|---|\n",
       "| T_calva_calva | 4.10   |  5.98  |  10.62 | 2.72   | 140    |  90    |  2.63  | 0.09   | 15.50  |  5.0   |  7.00  |  6.0   | 15     | 4.4    |\n",
       "| T_lancifolia | 3.77   |  5.59  |   7.84 | 2.35   | 120    |  75    |  3.36  | 0.11   | 11.83  |  4.0   | 14.00  |  9.2   | 11     | 4.0    |\n",
       "| T_longiradiata | 3.73   |  5.97  |  45.68 | 2.22   | 140    | 125    |  4.24  | 0.09   | 17.10  |  4.1   | 21.00  | 11.5   | 16     | 4.5    |\n",
       "| T_pedunculata | 6.10   |  7.10  |  21.52 | 3.01   | 100    |  90    |  2.79  | 0.14   | 15.30  |  1.5   | 28.05  | 11.0   | 51     | 2.7    |\n",
       "| T_fruticosa | 4.57   | 11.25  |  46.71 | 2.49   | 120    | 100    |  3.71  | 0.48   | 25.16  |  1.0   | 14.50  |  4.0   | 46     | 7.0    |\n",
       "| T_koelzii | 5.52   |  4.50  |  62.16 | 4.50   | 100    |  60    |  4.15  | 0.06   | 19.20  |  2.0   |  5.00  |  2.0   | 18     | 3.5    |\n",
       "| T_diversifolia | 6.24   |  6.12  |  35.55 | 2.28   | 130    |  90    |  3.21  | 0.16   |  8.99  | 27.0   | 66.00  | 59.0   | 17     | 5.0    |\n",
       "| T_thurberii | 6.54   |  6.99  | 141.80 | 2.55   |  92    |  71    |  9.85  | 0.33   | 16.66  |  1.5   | 70.50  |  5.5   | 89     | 3.5    |\n",
       "| T_tubaeformis | 5.45   |  6.37  |  33.23 | 2.57   | 120    |  90    | 15.90  | 0.44   |  6.19  | 59.5   | 81.50  | 73.0   | 95     | 3.0    |\n",
       "| T_brachypappa | 5.59   |  5.71  |   8.49 | 1.67   |  85    |  71    |  7.11  | 0.27   | 13.28  |  4.0   | 63.50  | 12.0   | 89     | 2.5    |\n",
       "| T_rotundifolia | 7.71   |  7.81  |  56.80 | 2.52   |  60    |  56    |  6.69  | 0.22   |  7.23  | 26.5   | 74.20  | 36.0   | 93     | 3.5    |\n",
       "\n"
      ],
      "text/plain": [
       "$tab\n",
       "               morho1 morho2 morho3 morho4 morho5 morho6 demo7 demo8 demo9\n",
       "T_calva_calva    4.10   5.98  10.62   2.72    140     90  2.63  0.09 15.50\n",
       "T_lancifolia     3.77   5.59   7.84   2.35    120     75  3.36  0.11 11.83\n",
       "T_longiradiata   3.73   5.97  45.68   2.22    140    125  4.24  0.09 17.10\n",
       "T_pedunculata    6.10   7.10  21.52   3.01    100     90  2.79  0.14 15.30\n",
       "T_fruticosa      4.57  11.25  46.71   2.49    120    100  3.71  0.48 25.16\n",
       "T_koelzii        5.52   4.50  62.16   4.50    100     60  4.15  0.06 19.20\n",
       "T_diversifolia   6.24   6.12  35.55   2.28    130     90  3.21  0.16  8.99\n",
       "T_thurberii      6.54   6.99 141.80   2.55     92     71  9.85  0.33 16.66\n",
       "T_tubaeformis    5.45   6.37  33.23   2.57    120     90 15.90  0.44  6.19\n",
       "T_brachypappa    5.59   5.71   8.49   1.67     85     71  7.11  0.27 13.28\n",
       "T_rotundifolia   7.71   7.81  56.80   2.52     60     56  6.69  0.22  7.23\n",
       "               demo10 demo11 demo12 demo13 demo14\n",
       "T_calva_calva     5.0   7.00    6.0     15    4.4\n",
       "T_lancifolia      4.0  14.00    9.2     11    4.0\n",
       "T_longiradiata    4.1  21.00   11.5     16    4.5\n",
       "T_pedunculata     1.5  28.05   11.0     51    2.7\n",
       "T_fruticosa       1.0  14.50    4.0     46    7.0\n",
       "T_koelzii         2.0   5.00    2.0     18    3.5\n",
       "T_diversifolia   27.0  66.00   59.0     17    5.0\n",
       "T_thurberii       1.5  70.50    5.5     89    3.5\n",
       "T_tubaeformis    59.5  81.50   73.0     95    3.0\n",
       "T_brachypappa     4.0  63.50   12.0     89    2.5\n",
       "T_rotundifolia   26.5  74.20   36.0     93    3.5\n"
      ]
     },
     "metadata": {},
     "output_type": "display_data"
    }
   ],
   "source": [
    "tithonia[2]"
   ]
  },
  {
   "cell_type": "code",
   "execution_count": 7,
   "id": "884e82f1",
   "metadata": {},
   "outputs": [],
   "source": [
    "tith2 <- as.data.frame(tithonia[2])"
   ]
  },
  {
   "cell_type": "code",
   "execution_count": 8,
   "id": "a60d1cef",
   "metadata": {},
   "outputs": [],
   "source": [
    "tith.dis <- dist(tith2)"
   ]
  },
  {
   "cell_type": "code",
   "execution_count": 9,
   "id": "c6a9a713",
   "metadata": {},
   "outputs": [],
   "source": [
    "tith.hc <- hclust(tith.dis,\"ave\")"
   ]
  },
  {
   "cell_type": "code",
   "execution_count": 10,
   "id": "9e727011",
   "metadata": {},
   "outputs": [],
   "source": [
    "tith.phy <- hclust2phylog(tith.hc)"
   ]
  },
  {
   "cell_type": "code",
   "execution_count": 15,
   "id": "91004e9c",
   "metadata": {},
   "outputs": [
    {
     "data": {
      "image/png": "[encoded data removed]",
      "text/plain": [
       "plot without title"
      ]
     },
     "metadata": {},
     "output_type": "display_data"
    }
   ],
   "source": [
    "plot(tith.phy,clabel.n= 0.6, f = 0.75)"
   ]
  },
  {
   "cell_type": "code",
   "execution_count": 12,
   "id": "10dd589f",
   "metadata": {},
   "outputs": [
    {
     "data": {
      "image/png": "[encoded data removed]",
      "text/plain": [
       "plot without title"
      ]
     },
     "metadata": {},
     "output_type": "display_data"
    }
   ],
   "source": [
    "radial.phylog(tith.phy)"
   ]
  },
  {
   "cell_type": "code",
   "execution_count": null,
   "id": "3f0d8494",
   "metadata": {},
   "outputs": [],
   "source": []
  }
 ],
 "metadata": {
  "kernelspec": {
   "display_name": "R",
   "language": "R",
   "name": "ir"
  },
  "language_info": {
   "codemirror_mode": "r",
   "file_extension": ".r",
   "mimetype": "text/x-r-source",
   "name": "R",
   "pygments_lexer": "r",
   "version": "3.6.1"
  }
 },
 "nbformat": 4,
 "nbformat_minor": 5
}
